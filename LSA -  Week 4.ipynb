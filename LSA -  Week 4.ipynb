{
 "cells": [
  {
   "cell_type": "code",
   "execution_count": 1,
   "metadata": {
    "collapsed": false
   },
   "outputs": [
    {
     "name": "stderr",
     "output_type": "stream",
     "text": [
      "WARNING:sklearn.datasets.twenty_newsgroups:Downloading dataset from http://people.csail.mit.edu/jrennie/20Newsgroups/20news-bydate.tar.gz (14 MB)\n"
     ]
    }
   ],
   "source": [
    "    from sklearn.datasets import fetch_20newsgroups\n",
    "\n",
    "    categories = ['rec.sport.baseball']\n",
    "\n",
    "    dataset = fetch_20newsgroups(subset='all',shuffle=True, random_state=42, categories=categories)\n",
    "\n",
    "    corpus = dataset.data"
   ]
  },
  {
   "cell_type": "code",
   "execution_count": 39,
   "metadata": {
    "collapsed": true
   },
   "outputs": [],
   "source": [
    "import nltk\n",
    "from nltk.corpus import stopwords\n",
    "from sklearn.feature_extraction.text import TfidfVectorizer\n",
    "from sklearn.decomposition import TruncatedSVD"
   ]
  },
  {
   "cell_type": "code",
   "execution_count": 40,
   "metadata": {
    "collapsed": false
   },
   "outputs": [
    {
     "name": "stdout",
     "output_type": "stream",
     "text": [
      "[nltk_data] Downloading package stopwords to\n",
      "[nltk_data]     C:\\Users\\Ashutosh\\AppData\\Roaming\\nltk_data...\n",
      "[nltk_data]   Package stopwords is already up-to-date!\n"
     ]
    },
    {
     "data": {
      "text/plain": [
       "True"
      ]
     },
     "execution_count": 40,
     "metadata": {},
     "output_type": "execute_result"
    }
   ],
   "source": [
    "nltk.download('stopwords')"
   ]
  },
  {
   "cell_type": "code",
   "execution_count": 41,
   "metadata": {
    "collapsed": true
   },
   "outputs": [],
   "source": [
    "stopset = set(stopwords.words('english'))"
   ]
  },
  {
   "cell_type": "markdown",
   "metadata": {},
   "source": [
    "Importing data from news groups"
   ]
  },
  {
   "cell_type": "code",
   "execution_count": 12,
   "metadata": {
    "collapsed": true
   },
   "outputs": [],
   "source": [
    "from sklearn.datasets import fetch_20newsgroups"
   ]
  },
  {
   "cell_type": "code",
   "execution_count": 13,
   "metadata": {
    "collapsed": true
   },
   "outputs": [],
   "source": [
    "newsgroups_train = fetch_20newsgroups(subset='train')"
   ]
  },
  {
   "cell_type": "code",
   "execution_count": 14,
   "metadata": {
    "collapsed": true
   },
   "outputs": [],
   "source": [
    "from pprint import pprint"
   ]
  },
  {
   "cell_type": "code",
   "execution_count": 15,
   "metadata": {
    "collapsed": false
   },
   "outputs": [
    {
     "name": "stdout",
     "output_type": "stream",
     "text": [
      "['alt.atheism',\n",
      " 'comp.graphics',\n",
      " 'comp.os.ms-windows.misc',\n",
      " 'comp.sys.ibm.pc.hardware',\n",
      " 'comp.sys.mac.hardware',\n",
      " 'comp.windows.x',\n",
      " 'misc.forsale',\n",
      " 'rec.autos',\n",
      " 'rec.motorcycles',\n",
      " 'rec.sport.baseball',\n",
      " 'rec.sport.hockey',\n",
      " 'sci.crypt',\n",
      " 'sci.electronics',\n",
      " 'sci.med',\n",
      " 'sci.space',\n",
      " 'soc.religion.christian',\n",
      " 'talk.politics.guns',\n",
      " 'talk.politics.mideast',\n",
      " 'talk.politics.misc',\n",
      " 'talk.religion.misc']\n"
     ]
    }
   ],
   "source": [
    "pprint(list(newsgroups_train.target_names))"
   ]
  },
  {
   "cell_type": "code",
   "execution_count": 18,
   "metadata": {
    "collapsed": true
   },
   "outputs": [],
   "source": [
    "cats = ['rec.sport.baseball']"
   ]
  },
  {
   "cell_type": "code",
   "execution_count": 19,
   "metadata": {
    "collapsed": true
   },
   "outputs": [],
   "source": [
    "newsgroups_train = fetch_20newsgroups(subset='train', categories=cats)"
   ]
  },
  {
   "cell_type": "code",
   "execution_count": 20,
   "metadata": {
    "collapsed": false
   },
   "outputs": [
    {
     "data": {
      "text/plain": [
       "['rec.sport.baseball']"
      ]
     },
     "execution_count": 20,
     "metadata": {},
     "output_type": "execute_result"
    }
   ],
   "source": [
    " list(newsgroups_train.target_names)"
   ]
  },
  {
   "cell_type": "markdown",
   "metadata": {},
   "source": [
    "TF-IDF Vectorizing"
   ]
  },
  {
   "cell_type": "code",
   "execution_count": 26,
   "metadata": {
    "collapsed": true
   },
   "outputs": [],
   "source": [
    " vectorizer = TfidfVectorizer()"
   ]
  },
  {
   "cell_type": "code",
   "execution_count": 42,
   "metadata": {
    "collapsed": true
   },
   "outputs": [],
   "source": [
    "vector = vectorizer.fit_transform(newsgroups_train.data)"
   ]
  },
  {
   "cell_type": "code",
   "execution_count": 44,
   "metadata": {
    "collapsed": false
   },
   "outputs": [
    {
     "data": {
      "text/plain": [
       "<1x10594 sparse matrix of type '<type 'numpy.float64'>'\n",
       "\twith 98 stored elements in Compressed Sparse Row format>"
      ]
     },
     "execution_count": 44,
     "metadata": {},
     "output_type": "execute_result"
    }
   ],
   "source": [
    "vector[0]"
   ]
  },
  {
   "cell_type": "code",
   "execution_count": 45,
   "metadata": {
    "collapsed": false
   },
   "outputs": [
    {
     "name": "stdout",
     "output_type": "stream",
     "text": [
      "  (0, 4920)\t0.118199127106\n",
      "  (0, 8982)\t0.122589356424\n",
      "  (0, 9351)\t0.0924233310277\n",
      "  (0, 4955)\t0.050094823627\n",
      "  (0, 7939)\t0.118199127106\n",
      "  (0, 9685)\t0.103603622207\n",
      "  (0, 4138)\t0.0635701453721\n",
      "  (0, 6952)\t0.105898652773\n",
      "  (0, 3336)\t0.127962562852\n",
      "  (0, 3885)\t0.134889830757\n",
      "  (0, 8376)\t0.101508423455\n",
      "  (0, 7466)\t0.111271859201\n",
      "  (0, 9586)\t0.0564361843927\n",
      "  (0, 3490)\t0.134889830757\n",
      "  (0, 4724)\t0.109812042838\n",
      "  (0, 10571)\t0.0631585183334\n",
      "  (0, 7598)\t0.134889830757\n",
      "  (0, 2637)\t0.0486001446607\n",
      "  (0, 9963)\t0.134889830757\n",
      "  (0, 9002)\t0.0771494828097\n",
      "  (0, 7155)\t0.134889830757\n",
      "  (0, 1693)\t0.0306603883145\n",
      "  (0, 1844)\t0.0466727486463\n",
      "  (0, 7642)\t0.134889830757\n",
      "  (0, 2932)\t0.12512639501\n",
      "  :\t:\n",
      "  (0, 7138)\t0.117741075964\n",
      "  (0, 8475)\t0.073752367246\n",
      "  (0, 5377)\t0.109812042838\n",
      "  (0, 5671)\t0.118199127106\n",
      "  (0, 3882)\t0.118199127106\n",
      "  (0, 201)\t0.0811058338055\n",
      "  (0, 6085)\t0.0243224168929\n",
      "  (0, 4038)\t0.100525446344\n",
      "  (0, 5386)\t0.12512639501\n",
      "  (0, 7080)\t0.143889071515\n",
      "  (0, 3551)\t0.10253324175\n",
      "  (0, 7188)\t0.0243224168929\n",
      "  (0, 1253)\t0.161343970154\n",
      "  (0, 2285)\t0.0806796351505\n",
      "  (0, 1840)\t0.0384679483325\n",
      "  (0, 10396)\t0.129698016953\n",
      "  (0, 6358)\t0.197344511226\n",
      "  (0, 8004)\t0.0303972207181\n",
      "  (0, 9332)\t0.024079595386\n",
      "  (0, 9510)\t0.211797305546\n",
      "  (0, 3434)\t0.145034490942\n",
      "  (0, 3946)\t0.0558251721187\n",
      "  (0, 7535)\t0.0977965374564\n",
      "  (0, 4672)\t0.120294325858\n",
      "  (0, 4563)\t0.048159190772\n"
     ]
    }
   ],
   "source": [
    "print vector[0]"
   ]
  },
  {
   "cell_type": "markdown",
   "metadata": {},
   "source": [
    "Latent Semantic Analysis"
   ]
  },
  {
   "cell_type": "code",
   "execution_count": 46,
   "metadata": {
    "collapsed": false
   },
   "outputs": [
    {
     "data": {
      "text/plain": [
       "(597, 10594)"
      ]
     },
     "execution_count": 46,
     "metadata": {},
     "output_type": "execute_result"
    }
   ],
   "source": [
    "vector.shape"
   ]
  },
  {
   "cell_type": "code",
   "execution_count": 47,
   "metadata": {
    "collapsed": false
   },
   "outputs": [
    {
     "data": {
      "text/plain": [
       "TruncatedSVD(algorithm='randomized', n_components=25, n_iter=100,\n",
       "       random_state=None, tol=0.0)"
      ]
     },
     "execution_count": 47,
     "metadata": {},
     "output_type": "execute_result"
    }
   ],
   "source": [
    "lsa = TruncatedSVD(n_components=25, n_iter=100)\n",
    "lsa.fit(vectors)"
   ]
  },
  {
   "cell_type": "code",
   "execution_count": 48,
   "metadata": {
    "collapsed": false
   },
   "outputs": [
    {
     "data": {
      "text/plain": [
       "array([ 0.01268703,  0.00977263,  0.00084153, ...,  0.00070569,\n",
       "        0.00061109,  0.00099584])"
      ]
     },
     "execution_count": 48,
     "metadata": {},
     "output_type": "execute_result"
    }
   ],
   "source": [
    "lsa.components_[0]"
   ]
  },
  {
   "cell_type": "code",
   "execution_count": 49,
   "metadata": {
    "collapsed": false
   },
   "outputs": [
    {
     "name": "stdout",
     "output_type": "stream",
     "text": [
      "2.7.11 |Anaconda 2.4.1 (64-bit)| (default, Dec  7 2015, 14:10:42) [MSC v.1500 64 bit (AMD64)]\n"
     ]
    }
   ],
   "source": [
    "import sys\n",
    "print (sys.version)"
   ]
  },
  {
   "cell_type": "code",
   "execution_count": 50,
   "metadata": {
    "collapsed": false
   },
   "outputs": [
    {
     "name": "stdout",
     "output_type": "stream",
     "text": [
      "Concept 0:\n",
      "the\n",
      "to\n",
      "and\n",
      "in\n",
      "of\n",
      "he\n",
      "is\n",
      "that\n",
      "edu\n",
      "it\n",
      " \n",
      "Concept 1:\n",
      "the\n",
      "00\n",
      "of\n",
      "in\n",
      "with\n",
      "are\n",
      "don\n",
      "0023\n",
      "better\n",
      "005314\n",
      " \n",
      "Concept 2:\n",
      "edu\n",
      "from\n",
      "up\n",
      "be\n",
      "002251w\n",
      "article\n",
      "in\n",
      "007\n",
      "subject\n",
      "re\n",
      " \n",
      "Concept 3:\n",
      "00\n",
      "000\n",
      "he\n",
      "year\n",
      "his\n",
      "at\n",
      "on\n",
      "this\n",
      "well\n",
      "don\n",
      " \n",
      "Concept 4:\n",
      "he\n",
      "edu\n",
      "from\n",
      "the\n",
      "at\n",
      "subject\n",
      "com\n",
      "well\n",
      "his\n",
      "good\n",
      " \n",
      "Concept 5:\n",
      "to\n",
      "it\n",
      "was\n",
      "for\n",
      "be\n",
      "you\n",
      "as\n",
      "players\n",
      "000th\n",
      "subject\n",
      " \n",
      "Concept 6:\n",
      "of\n",
      "you\n",
      "at\n",
      "edu\n",
      "that\n",
      "for\n",
      "he\n",
      "was\n",
      "hit\n",
      "what\n",
      " \n",
      "Concept 7:\n",
      "of\n",
      "and\n",
      "edu\n",
      "is\n",
      "to\n",
      "that\n",
      "baseball\n",
      "this\n",
      "be\n",
      "but\n",
      " \n",
      "Concept 8:\n",
      "to\n",
      "you\n",
      "this\n",
      "article\n",
      "the\n",
      "000\n",
      "0010\n",
      "year\n",
      "if\n",
      "be\n",
      " \n",
      "Concept 9:\n",
      "is\n",
      "that\n",
      "as\n",
      "com\n",
      "on\n",
      "only\n",
      "it\n",
      "be\n",
      "an\n",
      "cs\n",
      " \n",
      "Concept 10:\n",
      "com\n",
      "of\n",
      "be\n",
      "if\n",
      "or\n",
      "can\n",
      "as\n",
      "article\n",
      "in\n",
      "002\n",
      " \n",
      "Concept 11:\n",
      "and\n",
      "is\n",
      "in\n",
      "it\n",
      "or\n",
      "you\n",
      "baseball\n",
      "be\n",
      "lines\n",
      "this\n",
      " \n",
      "Concept 12:\n",
      "in\n",
      "to\n",
      "me\n",
      "don\n",
      "it\n",
      "by\n",
      "at\n",
      "have\n",
      "out\n",
      "one\n",
      " \n",
      "Concept 13:\n",
      "000\n",
      "this\n",
      "on\n",
      "it\n",
      "writes\n",
      "as\n",
      "is\n",
      "game\n",
      "of\n",
      "than\n",
      " \n",
      "Concept 14:\n",
      "of\n",
      "was\n",
      "is\n",
      "to\n",
      "on\n",
      "were\n",
      "his\n",
      "and\n",
      "year\n",
      "subject\n",
      " \n",
      "Concept 15:\n",
      "in\n",
      "this\n",
      "year\n",
      "for\n",
      "article\n",
      "on\n",
      "as\n",
      "time\n",
      "002251w\n",
      "to\n",
      " \n",
      "Concept 16:\n",
      "do\n",
      "have\n",
      "this\n",
      "with\n",
      "it\n",
      "at\n",
      "their\n",
      "university\n",
      "of\n",
      "an\n",
      " \n",
      "Concept 17:\n",
      "000\n",
      "in\n",
      "that\n",
      "and\n",
      "are\n",
      "or\n",
      "this\n",
      "there\n",
      "edu\n",
      "at\n",
      " \n",
      "Concept 18:\n",
      "this\n",
      "be\n",
      "who\n",
      "game\n",
      "that\n",
      "so\n",
      "posting\n",
      "his\n",
      "on\n",
      "lines\n",
      " \n",
      "Concept 19:\n",
      "than\n",
      "for\n",
      "have\n",
      "but\n",
      "out\n",
      "edu\n",
      "has\n",
      "think\n",
      "does\n",
      "well\n",
      " \n",
      "Concept 20:\n",
      "not\n",
      "don\n",
      "000\n",
      "year\n",
      "has\n",
      "who\n",
      "only\n",
      "this\n",
      "baseball\n",
      "out\n",
      " \n",
      "Concept 21:\n",
      "000\n",
      "they\n",
      "who\n",
      "it\n",
      "do\n",
      "me\n",
      "game\n",
      "is\n",
      "any\n",
      "can\n",
      " \n",
      "Concept 22:\n",
      "but\n",
      "his\n",
      "in\n",
      "at\n",
      "games\n",
      "all\n",
      "are\n",
      "has\n",
      "were\n",
      "do\n",
      " \n",
      "Concept 23:\n",
      "lines\n",
      "organization\n",
      "on\n",
      "and\n",
      "from\n",
      "so\n",
      "but\n",
      "that\n",
      "subject\n",
      "better\n",
      " \n",
      "Concept 24:\n",
      "with\n",
      "re\n",
      "this\n",
      "had\n",
      "no\n",
      "0010\n",
      "good\n",
      "or\n",
      "article\n",
      "0062\n",
      " \n"
     ]
    }
   ],
   "source": [
    "terms = vectorizer.get_feature_names()\n",
    "for i, comp in enumerate(lsa.components_): \n",
    "    termsInComp = zip (terms,comp)\n",
    "    sortedTerms =  sorted(termsInComp, key=lambda x: x[1], reverse=True) [:10]\n",
    "    print \"Concept %d:\" % i\n",
    "    for term in sortedTerms:\n",
    "        print term[0]\n",
    "    print \" \""
   ]
  },
  {
   "cell_type": "code",
   "execution_count": 51,
   "metadata": {
    "collapsed": false
   },
   "outputs": [
    {
     "data": {
      "text/plain": [
       "array([[  1.26870309e-02,   9.77262516e-03,   8.41526481e-04, ...,\n",
       "          7.05685412e-04,   6.11091456e-04,   9.95836727e-04],\n",
       "       [  6.21918815e-02,   1.60075761e-02,  -3.53692534e-02, ...,\n",
       "         -5.51972705e-04,  -2.16903100e-04,  -6.26343365e-04],\n",
       "       [  4.71232297e-02,  -2.16185232e-03,   5.61108053e-03, ...,\n",
       "          2.58891300e-04,   3.65014360e-04,   2.90400183e-04],\n",
       "       ..., \n",
       "       [ -3.46703348e-02,   9.73041009e-02,   2.43709506e-02, ...,\n",
       "         -6.76922697e-04,  -1.31318659e-04,   3.86652812e-04],\n",
       "       [ -2.60262345e-02,   2.89112197e-02,  -7.49381101e-02, ...,\n",
       "         -1.02563649e-03,  -3.30187042e-04,   4.85781883e-05],\n",
       "       [ -3.38315846e-02,   9.34075435e-02,   1.19298975e-02, ...,\n",
       "          7.87466382e-05,  -6.10532838e-04,  -1.37366352e-03]])"
      ]
     },
     "execution_count": 51,
     "metadata": {},
     "output_type": "execute_result"
    }
   ],
   "source": [
    "lsa.components_"
   ]
  },
  {
   "cell_type": "code",
   "execution_count": null,
   "metadata": {
    "collapsed": true
   },
   "outputs": [],
   "source": []
  }
 ],
 "metadata": {
  "kernelspec": {
   "display_name": "Python 2",
   "language": "python",
   "name": "python2"
  },
  "language_info": {
   "codemirror_mode": {
    "name": "ipython",
    "version": 2
   },
   "file_extension": ".py",
   "mimetype": "text/x-python",
   "name": "python",
   "nbconvert_exporter": "python",
   "pygments_lexer": "ipython2",
   "version": "2.7.11"
  }
 },
 "nbformat": 4,
 "nbformat_minor": 0
}
